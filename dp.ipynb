{
 "cells": [
  {
   "cell_type": "code",
   "execution_count": 20,
   "id": "c18818ac-6b35-4e07-8e9a-83e63f99e7fa",
   "metadata": {},
   "outputs": [],
   "source": [
    "import os\n",
    "import pandas as pd\n",
    "from datetime import datetime\n",
    "import pytz\n",
    "\n",
    "def append_csv_files(folder_path, start_date, end_date):\n",
    "    # Convert input date strings to date objects\n",
    "    start_date = datetime.strptime(start_date, \"%Y%m%d\")\n",
    "    end_date = datetime.strptime(end_date, \"%Y%m%d\")\n",
    "\n",
    "    # Get all files in the specified folder\n",
    "    files = os.listdir(folder_path)\n",
    "\n",
    "    # List to store dataframes\n",
    "    dataframes = []\n",
    "\n",
    "    # Timezone conversion setup\n",
    "    hk_tz = pytz.timezone('Asia/Hong_Kong')\n",
    "\n",
    "    # Iterate over files in the folder\n",
    "    for file in files:\n",
    "        if file.endswith('.csv'):\n",
    "            # Extract date from filename\n",
    "            file_date_str = file.split('.')[0]\n",
    "            file_date = datetime.strptime(file_date_str, \"%Y%m%d\")\n",
    "\n",
    "            # Check if file date is within the specified range\n",
    "            if start_date <= file_date <= end_date:\n",
    "                file_path = os.path.join(folder_path, file)\n",
    "                df = pd.read_csv(file_path)\n",
    "                \n",
    "                # Assign column name to the first column\n",
    "                df.columns = ['datetime'] + list(df.columns[1:])\n",
    "                # Convert to Hong Kong time\n",
    "                df['datetime'] = pd.to_datetime(df['datetime']).dt.tz_convert(hk_tz).dt.tz_localize(None)\n",
    "\n",
    "                dataframes.append(df)\n",
    "\n",
    "    # Concatenate all dataframes\n",
    "    if dataframes:\n",
    "        combined_df = pd.concat(dataframes, ignore_index=True)\n",
    "\n",
    "        # Sort by datetime\n",
    "        combined_df.sort_values(by='datetime', inplace=True)\n",
    "\n",
    "        # Use folder name as the new CSV file name\n",
    "        folder_name = os.path.basename(os.path.normpath(folder_path))\n",
    "        output_file = f\"{folder_name}.csv\"\n",
    "        combined_df.to_csv(output_file, index=False)\n",
    "\n",
    "        print(f\"Combined CSV file saved as: {output_file}\")\n",
    "    else:\n",
    "        print(\"No CSV files found in the specified date range.\")\n"
   ]
  },
  {
   "cell_type": "code",
   "execution_count": 22,
   "id": "ac687b19-497f-4e53-be7f-546c765f9a6f",
   "metadata": {},
   "outputs": [
    {
     "name": "stdout",
     "output_type": "stream",
     "text": [
      "Combined CSV file saved as: EURUSD.csv\n"
     ]
    }
   ],
   "source": [
    "# 指定folder、startdate和enddate\n",
    "folder_path = \"EURUSD\"\n",
    "start_date = '20240101'\n",
    "end_date = '20240831'\n",
    "append_csv_files(folder_path, start_date, end_date)"
   ]
  },
  {
   "cell_type": "code",
   "execution_count": null,
   "id": "55ec1204-e143-404a-8967-5c19888c9168",
   "metadata": {},
   "outputs": [],
   "source": []
  }
 ],
 "metadata": {
  "kernelspec": {
   "display_name": "Python 3 (ipykernel)",
   "language": "python",
   "name": "python3"
  },
  "language_info": {
   "codemirror_mode": {
    "name": "ipython",
    "version": 3
   },
   "file_extension": ".py",
   "mimetype": "text/x-python",
   "name": "python",
   "nbconvert_exporter": "python",
   "pygments_lexer": "ipython3",
   "version": "3.10.14"
  }
 },
 "nbformat": 4,
 "nbformat_minor": 5
}
