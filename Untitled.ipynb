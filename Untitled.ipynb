{
 "cells": [
  {
   "cell_type": "code",
   "execution_count": 1,
   "id": "faf006bd-6e14-461a-9830-12e47129a973",
   "metadata": {},
   "outputs": [
    {
     "name": "stdout",
     "output_type": "stream",
     "text": [
      "        date  mid\n",
      "0 2023-01-01  100\n",
      "1 2023-01-02  102\n",
      "2 2023-01-03  101\n",
      "3 2023-01-04  103\n",
      "4 2023-01-05  105\n",
      "5 2023-01-06  104\n",
      "6 2023-01-07  106\n",
      "7 2023-01-08  108\n",
      "8 2023-01-09  107\n",
      "9 2023-01-10  110\n"
     ]
    }
   ],
   "source": [
    "import pandas as pd\n",
    "import numpy as np\n",
    "\n",
    "df0 = pd.DataFrame({\n",
    "    'date': pd.date_range(start='2023-01-01', periods=10),\n",
    "    'mid': [100, 102, 101, 103, 105, 104, 106, 108, 107, 110]\n",
    "})\n",
    "\n",
    "print(df0)"
   ]
  },
  {
   "cell_type": "code",
   "execution_count": 2,
   "id": "acb72fea-d1ef-4505-92fd-606f8ff861b2",
   "metadata": {},
   "outputs": [
    {
     "name": "stdout",
     "output_type": "stream",
     "text": [
      "        date  mid       R_2\n",
      "0 2023-01-01  100  0.010000\n",
      "1 2023-01-02  102  0.009804\n",
      "2 2023-01-03  101  0.039604\n",
      "3 2023-01-04  103  0.009709\n",
      "4 2023-01-05  105  0.009524\n",
      "5 2023-01-06  104  0.038462\n",
      "6 2023-01-07  106  0.009434\n",
      "7 2023-01-08  108  0.018519\n",
      "8 2023-01-09  107       NaN\n",
      "9 2023-01-10  110       NaN\n"
     ]
    }
   ],
   "source": [
    "t = 2\n",
    "df0[f'R_{t}'] = df0['mid'].pct_change(t).shift(-t)\n",
    "\n",
    "print(df0)"
   ]
  },
  {
   "cell_type": "code",
   "execution_count": null,
   "id": "85cb1a99-fa2b-43ae-a0d5-09de4af1c8aa",
   "metadata": {},
   "outputs": [],
   "source": []
  }
 ],
 "metadata": {
  "kernelspec": {
   "display_name": "Python 3 (ipykernel)",
   "language": "python",
   "name": "python3"
  },
  "language_info": {
   "codemirror_mode": {
    "name": "ipython",
    "version": 3
   },
   "file_extension": ".py",
   "mimetype": "text/x-python",
   "name": "python",
   "nbconvert_exporter": "python",
   "pygments_lexer": "ipython3",
   "version": "3.10.14"
  }
 },
 "nbformat": 4,
 "nbformat_minor": 5
}
